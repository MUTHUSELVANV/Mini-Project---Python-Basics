{
 "cells": [
  {
   "cell_type": "code",
   "execution_count": null,
   "metadata": {},
   "outputs": [],
   "source": [
    "#1"
   ]
  },
  {
   "cell_type": "code",
   "execution_count": 1,
   "metadata": {},
   "outputs": [
    {
     "name": "stdout",
     "output_type": "stream",
     "text": [
      "Enter any Number12\n",
      "It is not a prime Number\n"
     ]
    }
   ],
   "source": [
    "a=int(input(\"Enter any Number\"))\n",
    "count=0\n",
    "for i in range(2,a):\n",
    "    if a%i==0:\n",
    "        count+=1\n",
    "if count!=0 or a==1 or a==0:\n",
    "    print('It is not a prime Number')\n",
    "else:\n",
    "    print('It is a prime number')"
   ]
  },
  {
   "cell_type": "code",
   "execution_count": null,
   "metadata": {},
   "outputs": [],
   "source": [
    "#2"
   ]
  },
  {
   "cell_type": "code",
   "execution_count": 15,
   "metadata": {},
   "outputs": [
    {
     "name": "stdout",
     "output_type": "stream",
     "text": [
      "Enter a,b &c1 1 1\n",
      "0\n"
     ]
    }
   ],
   "source": [
    "a,b,c=[int(x) for x in input(\"Enter a,b &c\").split()]\n",
    "x= (a+b+c) * (a-b-c) * a*b + a**2 + b**2 + (a*b*c)**3\n",
    "print(x)"
   ]
  },
  {
   "cell_type": "code",
   "execution_count": null,
   "metadata": {},
   "outputs": [],
   "source": [
    "#3"
   ]
  },
  {
   "cell_type": "code",
   "execution_count": 1,
   "metadata": {},
   "outputs": [
    {
     "name": "stdout",
     "output_type": "stream",
     "text": [
      "['wood', 'knife', 'axe', 'tree', 'apple', 'mango', 'melon']\n"
     ]
    }
   ],
   "source": [
    "urlist = ['wood','knife','axe']\n",
    "mylist = ['tree', 'apple', 'mango', 'melon']\n",
    "a=[]\n",
    "a.extend(urlist)\n",
    "a.extend(mylist)\n",
    "print(a)"
   ]
  },
  {
   "cell_type": "code",
   "execution_count": null,
   "metadata": {},
   "outputs": [],
   "source": [
    "#4"
   ]
  },
  {
   "cell_type": "code",
   "execution_count": 2,
   "metadata": {},
   "outputs": [
    {
     "name": "stdout",
     "output_type": "stream",
     "text": [
      "Enter any Number5\n",
      "1 2 3 4 5 "
     ]
    }
   ],
   "source": [
    "a=int(input(\"Enter any Number\"))\n",
    "for i in range(1,a+1):\n",
    "    print(i,end=' ')"
   ]
  },
  {
   "cell_type": "code",
   "execution_count": null,
   "metadata": {},
   "outputs": [],
   "source": [
    "#5"
   ]
  },
  {
   "cell_type": "code",
   "execution_count": 3,
   "metadata": {},
   "outputs": [
    {
     "name": "stdout",
     "output_type": "stream",
     "text": [
      "Enter a,b,c & d3 4 5 6\n",
      "2.0\n"
     ]
    }
   ],
   "source": [
    "import math\n",
    "class Pal:\n",
    "  def __init__(self,v,x,y,z):\n",
    "    self.v = v\n",
    "    self.x = x\n",
    "    self.y = y\n",
    "    self.z = z\n",
    "\n",
    "  def myfunc(self):\n",
    "    print(math.sqrt((self.v-self.x)**2) + math.sqrt((self.y-self.z)**2))\n",
    "    \n",
    "a,b,c,d=[int(n) for n in input(\"Enter a,b,c & d\").split()]\n",
    "p1 = Pal(a,b,c,d)\n",
    "p1.myfunc()"
   ]
  },
  {
   "cell_type": "code",
   "execution_count": null,
   "metadata": {},
   "outputs": [],
   "source": [
    "#6"
   ]
  },
  {
   "cell_type": "code",
   "execution_count": 25,
   "metadata": {},
   "outputs": [
    {
     "name": "stdout",
     "output_type": "stream",
     "text": [
      "python\n"
     ]
    }
   ],
   "source": [
    "Name = 'Guvi python'\n",
    "print(Name[5:])"
   ]
  },
  {
   "cell_type": "code",
   "execution_count": null,
   "metadata": {},
   "outputs": [],
   "source": [
    "#7"
   ]
  },
  {
   "cell_type": "code",
   "execution_count": 30,
   "metadata": {},
   "outputs": [
    {
     "name": "stdout",
     "output_type": "stream",
     "text": [
      "Enter any String123\n",
      "Entered string is not palindrome\n"
     ]
    }
   ],
   "source": [
    "class Pal:\n",
    "  def __init__(self, name):\n",
    "    self.name = name\n",
    "\n",
    "  def myfunc(self):\n",
    "    if self.name == self.name[::-1]:\n",
    "        print('Entered string is palindrome')\n",
    "    else:\n",
    "        print('Entered string is not palindrome')\n",
    "\n",
    "a=str(input(\"Enter any String\"))\n",
    "p1 = Pal(a)\n",
    "p1.myfunc()"
   ]
  },
  {
   "cell_type": "code",
   "execution_count": null,
   "metadata": {},
   "outputs": [],
   "source": [
    "#8"
   ]
  },
  {
   "cell_type": "code",
   "execution_count": 26,
   "metadata": {},
   "outputs": [
    {
     "name": "stdout",
     "output_type": "stream",
     "text": [
      "Hello World\n",
      "\n"
     ]
    }
   ],
   "source": [
    "file = open('Octane.csv','w')\n",
    "file.write('Hello World\\n')\n",
    "file.close()\n",
    "file = open('Octane.csv','r')\n",
    "print(file.read())\n",
    "file.close()"
   ]
  },
  {
   "cell_type": "code",
   "execution_count": null,
   "metadata": {},
   "outputs": [],
   "source": [
    "#9"
   ]
  },
  {
   "cell_type": "code",
   "execution_count": 10,
   "metadata": {},
   "outputs": [],
   "source": [
    "from tkinter import *\n",
    "from tkinter import messagebox\n",
    "\n",
    "top = Tk()\n",
    "top.geometry(\"100x100\")\n",
    "def hello():\n",
    "   messagebox.showinfo(\"Say Hello\", \"Hello World\")\n",
    "\n",
    "B1 = Button(top, text = \"Say Hello\", command = hello)\n",
    "B1.place(x = 35,y = 50)\n",
    "\n",
    "top.mainloop()"
   ]
  },
  {
   "cell_type": "code",
   "execution_count": null,
   "metadata": {},
   "outputs": [],
   "source": [
    "#10"
   ]
  },
  {
   "cell_type": "code",
   "execution_count": 14,
   "metadata": {},
   "outputs": [
    {
     "name": "stdout",
     "output_type": "stream",
     "text": [
      "89938829331\n",
      "<class 'int'>\n"
     ]
    }
   ],
   "source": [
    "x = ' 89e9jcd^o38829@3%3,/mkl$w1'\n",
    "y=[]\n",
    "z=[]\n",
    "for i in x:\n",
    "    y.append(i)\n",
    "for i in y:\n",
    "    if( i=='0' or i=='1' or i=='2' or i=='3' or i=='4' or i=='5' or i=='6' or i=='7' or i=='8' or i=='9' ):\n",
    "        z.append(i)\n",
    "s=''.join(map(str, z))\n",
    "s=int(s)\n",
    "print(s)\n",
    "print(type(s))"
   ]
  }
 ],
 "metadata": {
  "kernelspec": {
   "display_name": "Python 3",
   "language": "python",
   "name": "python3"
  },
  "language_info": {
   "codemirror_mode": {
    "name": "ipython",
    "version": 3
   },
   "file_extension": ".py",
   "mimetype": "text/x-python",
   "name": "python",
   "nbconvert_exporter": "python",
   "pygments_lexer": "ipython3",
   "version": "3.8.3"
  }
 },
 "nbformat": 4,
 "nbformat_minor": 4
}
